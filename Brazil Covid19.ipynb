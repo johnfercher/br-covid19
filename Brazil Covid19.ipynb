{
 "cells": [
  {
   "cell_type": "markdown",
   "metadata": {},
   "source": [
    "## Imports"
   ]
  },
  {
   "cell_type": "code",
   "execution_count": 16,
   "metadata": {},
   "outputs": [],
   "source": [
    "import pandas as pd \n",
    "\n",
    "from random import seed\n",
    "from random import random\n",
    "from random import randint\n",
    "\n",
    "seed(1)"
   ]
  },
  {
   "cell_type": "markdown",
   "metadata": {},
   "source": [
    "## Brazil Data\n",
    "https://www.indexmundi.com/brazil/demographics_profile.html"
   ]
  },
  {
   "cell_type": "code",
   "execution_count": 23,
   "metadata": {},
   "outputs": [],
   "source": [
    "# Total\n",
    "population_total = 208846892\n",
    "\n",
    "# Male\n",
    "male0to14 = 23310437 \n",
    "male15to24 = 17254084\n",
    "male25to54 = 45449158\n",
    "male55to64 = 9229665\n",
    "male65plus = 7666845\n",
    "male_life_avg = 70.7\n",
    "\n",
    "# Female\n",
    "female0to14 = 22414551\n",
    "female15to24 = 16758140\n",
    "female25to54 = 46151759\n",
    "female55to64 = 10296824\n",
    "female65plus = 10315429\n",
    "female_life_avg = 78.0\n",
    "\n",
    "# others\n",
    "aids = 0.5\n",
    "improved_water_access = 98.1\n",
    "sanitation_access = 82.8\n",
    "adult_obesity = 22.1"
   ]
  },
  {
   "cell_type": "markdown",
   "metadata": {},
   "source": [
    "## Helpers"
   ]
  },
  {
   "cell_type": "code",
   "execution_count": 9,
   "metadata": {},
   "outputs": [],
   "source": [
    "def has_aids():\n",
    "    value = random()*100.0\n",
    "    #print(value)\n",
    "    return value <= aids\n",
    "\n",
    "def has_water_access():\n",
    "    value = random()*100.0\n",
    "    #print(value)\n",
    "    return value <= improved_water_access\n",
    "\n",
    "def has_sanitation_access():\n",
    "    value = random()*100.0\n",
    "    #print(value)\n",
    "    return value <= sanitation_access\n",
    "\n",
    "def has_obesity():\n",
    "    value = random()*100.0\n",
    "    #print(value)\n",
    "    return value <= adult_obesity\n",
    "\n",
    "\n",
    "#print(has_aids())\n",
    "#print(has_water_access())\n",
    "#print(has_sanitation_access())\n",
    "#print(has_obesity())"
   ]
  },
  {
   "cell_type": "markdown",
   "metadata": {},
   "source": [
    "## Setup Aids, Water Access, Sanitation Access and Obesity"
   ]
  },
  {
   "cell_type": "code",
   "execution_count": 10,
   "metadata": {},
   "outputs": [],
   "source": [
    "dict = {} \n",
    "\n",
    "aids_list = []\n",
    "water_list = []\n",
    "sanitation_list = []\n",
    "obesity_list = []\n",
    "\n",
    "for x in range(population_total):\n",
    "    aids_list.append(has_aids())\n",
    "    water_list.append(has_water_access())\n",
    "    sanitation_list.append(has_sanitation_access())\n",
    "    obesity_list.append(has_obesity())\n",
    "    \n",
    "dict[\"aids\"] = aids_list\n",
    "dict[\"water\"] = water_list\n",
    "dict[\"sanitation\"] = sanitation_list\n",
    "dict[\"obesity\"] = obesity_list"
   ]
  },
  {
   "cell_type": "markdown",
   "metadata": {},
   "source": [
    "## Setup Age and Sex"
   ]
  },
  {
   "cell_type": "code",
   "execution_count": 30,
   "metadata": {},
   "outputs": [],
   "source": [
    "sex_list = []\n",
    "age_list = []\n",
    "\n",
    "# Male\n",
    "for x in range(male0to14):\n",
    "    sex_list.append(True)\n",
    "    age_list.append(randint(0, 14))\n",
    "    \n",
    "for x in range(male15to24):\n",
    "    sex_list.append(True)\n",
    "    age_list.append(randint(15, 24))\n",
    "   \n",
    "for x in range(male25to54):\n",
    "    sex_list.append(True)\n",
    "    age_list.append(randint(25, 54))\n",
    "    \n",
    "for x in range(male55to64):\n",
    "    sex_list.append(True)\n",
    "    age_list.append(randint(55, 64))\n",
    "    \n",
    "for x in range(male65plus):\n",
    "    sex_list.append(True)\n",
    "    age_list.append(randint(65, 100))\n",
    "  \n",
    "# Female\n",
    "for x in range(female0to14):\n",
    "    sex_list.append(False)\n",
    "    age_list.append(randint(0, 14))\n",
    "    \n",
    "for x in range(female15to24):\n",
    "    sex_list.append(False)\n",
    "    age_list.append(randint(15, 24))\n",
    "   \n",
    "for x in range(female25to54):\n",
    "    sex_list.append(False)\n",
    "    age_list.append(randint(25, 54))\n",
    "    \n",
    "for x in range(female55to64):\n",
    "    sex_list.append(False)\n",
    "    age_list.append(randint(55, 64))\n",
    "    \n",
    "for x in range(female65plus):\n",
    "    sex_list.append(False)\n",
    "    age_list.append(randint(65, 100))\n",
    "    \n",
    "dict[\"sex\"] = sex_list\n",
    "dict[\"age\"] = age_list"
   ]
  },
  {
   "cell_type": "code",
   "execution_count": 32,
   "metadata": {},
   "outputs": [
    {
     "name": "stdout",
     "output_type": "stream",
     "text": [
      "            aids  water  sanitation  obesity    sex  age\n",
      "0          False   True       False    False   True   13\n",
      "1          False   True       False    False   True    3\n",
      "2          False   True        True    False   True   12\n",
      "3          False   True        True    False   True   12\n",
      "4          False   True        True    False   True   11\n",
      "...          ...    ...         ...      ...    ...  ...\n",
      "208846887  False   True        True    False  False   86\n",
      "208846888  False   True        True     True  False   75\n",
      "208846889  False   True        True    False  False   66\n",
      "208846890  False   True       False    False  False   89\n",
      "208846891  False   True        True     True  False   99\n",
      "\n",
      "[208846892 rows x 6 columns]\n"
     ]
    }
   ],
   "source": [
    "df = pd.DataFrame(dict) "
   ]
  },
  {
   "cell_type": "code",
   "execution_count": 34,
   "metadata": {},
   "outputs": [],
   "source": [
    "df = pd.read_pickle(\"brazil.pkl\")"
   ]
  },
  {
   "cell_type": "code",
   "execution_count": 35,
   "metadata": {},
   "outputs": [
    {
     "data": {
      "text/html": [
       "<div>\n",
       "<style scoped>\n",
       "    .dataframe tbody tr th:only-of-type {\n",
       "        vertical-align: middle;\n",
       "    }\n",
       "\n",
       "    .dataframe tbody tr th {\n",
       "        vertical-align: top;\n",
       "    }\n",
       "\n",
       "    .dataframe thead th {\n",
       "        text-align: right;\n",
       "    }\n",
       "</style>\n",
       "<table border=\"1\" class=\"dataframe\">\n",
       "  <thead>\n",
       "    <tr style=\"text-align: right;\">\n",
       "      <th></th>\n",
       "      <th>aids</th>\n",
       "      <th>water</th>\n",
       "      <th>sanitation</th>\n",
       "      <th>obesity</th>\n",
       "      <th>sex</th>\n",
       "      <th>age</th>\n",
       "    </tr>\n",
       "  </thead>\n",
       "  <tbody>\n",
       "    <tr>\n",
       "      <th>0</th>\n",
       "      <td>False</td>\n",
       "      <td>True</td>\n",
       "      <td>False</td>\n",
       "      <td>False</td>\n",
       "      <td>True</td>\n",
       "      <td>13</td>\n",
       "    </tr>\n",
       "    <tr>\n",
       "      <th>1</th>\n",
       "      <td>False</td>\n",
       "      <td>True</td>\n",
       "      <td>False</td>\n",
       "      <td>False</td>\n",
       "      <td>True</td>\n",
       "      <td>3</td>\n",
       "    </tr>\n",
       "    <tr>\n",
       "      <th>2</th>\n",
       "      <td>False</td>\n",
       "      <td>True</td>\n",
       "      <td>True</td>\n",
       "      <td>False</td>\n",
       "      <td>True</td>\n",
       "      <td>12</td>\n",
       "    </tr>\n",
       "    <tr>\n",
       "      <th>3</th>\n",
       "      <td>False</td>\n",
       "      <td>True</td>\n",
       "      <td>True</td>\n",
       "      <td>False</td>\n",
       "      <td>True</td>\n",
       "      <td>12</td>\n",
       "    </tr>\n",
       "    <tr>\n",
       "      <th>4</th>\n",
       "      <td>False</td>\n",
       "      <td>True</td>\n",
       "      <td>True</td>\n",
       "      <td>False</td>\n",
       "      <td>True</td>\n",
       "      <td>11</td>\n",
       "    </tr>\n",
       "  </tbody>\n",
       "</table>\n",
       "</div>"
      ],
      "text/plain": [
       "    aids  water  sanitation  obesity   sex  age\n",
       "0  False   True       False    False  True   13\n",
       "1  False   True       False    False  True    3\n",
       "2  False   True        True    False  True   12\n",
       "3  False   True        True    False  True   12\n",
       "4  False   True        True    False  True   11"
      ]
     },
     "execution_count": 35,
     "metadata": {},
     "output_type": "execute_result"
    }
   ],
   "source": [
    "df.head()"
   ]
  },
  {
   "cell_type": "code",
   "execution_count": null,
   "metadata": {},
   "outputs": [],
   "source": []
  }
 ],
 "metadata": {
  "kernelspec": {
   "display_name": "Python 3",
   "language": "python",
   "name": "python3"
  },
  "language_info": {
   "codemirror_mode": {
    "name": "ipython",
    "version": 3
   },
   "file_extension": ".py",
   "mimetype": "text/x-python",
   "name": "python",
   "nbconvert_exporter": "python",
   "pygments_lexer": "ipython3",
   "version": "3.7.3"
  }
 },
 "nbformat": 4,
 "nbformat_minor": 2
}
